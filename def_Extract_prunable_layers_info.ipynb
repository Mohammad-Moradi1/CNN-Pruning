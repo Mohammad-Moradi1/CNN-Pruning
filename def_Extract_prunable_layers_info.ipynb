{
  "nbformat": 4,
  "nbformat_minor": 0,
  "metadata": {
    "colab": {
      "provenance": [],
      "authorship_tag": "ABX9TyOZzyAt6bJO2erJbi8V6AM2",
      "include_colab_link": true
    },
    "kernelspec": {
      "name": "python3",
      "display_name": "Python 3"
    },
    "language_info": {
      "name": "python"
    }
  },
  "cells": [
    {
      "cell_type": "markdown",
      "metadata": {
        "id": "view-in-github",
        "colab_type": "text"
      },
      "source": [
        "<a href=\"https://colab.research.google.com/github/Mohammad-Moradi1/CNN-Pruning/blob/main/def_Extract_prunable_layers_info.ipynb\" target=\"_parent\"><img src=\"https://colab.research.google.com/assets/colab-badge.svg\" alt=\"Open In Colab\"/></a>"
      ]
    },
    {
      "cell_type": "markdown",
      "source": [
        "این تابع وظیفه استخراج اطلاعات لایه‌های قابل هرس\n",
        "(prunable)\n",
        "را از یک مدل\n",
        "PyTorch\n",
        " بر عهده دارد. این اطلاعات شامل لایه‌های قابل هرس، ابعاد خروجی آنها، و توزیع\n",
        " فیلترها است.\n",
        " ورودی‌ها\n",
        "model: nn.Module\n",
        "مدل PyTorch که لایه‌های قابل هرس از آن استخراج خواهند شد.\n",
        "\n",
        "skip_layer_index: List\n",
        "لیستی از ایندکس‌های لایه‌هایی که باید در فرآیند هرس نادیده گرفته شوند.\n",
        "\n",
        "خروجی‌ها\n",
        "filter_distribution: Tensor\n",
        "توزیع نسبی ابعاد خروجی هر لایه قابل هرس به‌صورت یک تنسور PyTorch.\n",
        "\n",
        "total_output_dim: int\n",
        "مجموع ابعاد خروجی تمام لایه‌های قابل هرس.\n",
        "\n",
        "prunable_layers: List\n",
        "لیستی از اشیاء لایه‌های قابل هرس."
      ],
      "metadata": {
        "id": "6mSMjS21gM5v"
      }
    },
    {
      "cell_type": "code",
      "execution_count": null,
      "metadata": {
        "id": "0se_x6oef0MB"
      },
      "outputs": [],
      "source": [
        "import torch\n",
        "from torch import nn, Tensor\n",
        "from typing import Tuple, List, Dict\n",
        "import queue\n",
        "\n",
        "\n",
        "\n",
        "@torch.no_grad()\n",
        "def extract_prunable_layers_info(model: nn.Module, skip_layer_index: List) -> Tuple[Tensor, int, List]:\n",
        "    \"\"\" Extracts prunable layer information from a given neural network model \"\"\"\n",
        "    prunable_layers = []\n",
        "    output_dims = []\n",
        "\n",
        "    def recursive_extract_prunable_layers_info(module: nn.Module):\n",
        "        \"\"\" Recursively extracts prunable layers from a module \"\"\"\n",
        "        children = list(module.children())\n",
        "        for child in children:\n",
        "            if isinstance(child, PRUNABLE_LAYERS):\n",
        "                prunable_layers.append(child)\n",
        "                if isinstance(child, CONV_LAYERS):\n",
        "                    output_dims.append(child.out_channels)\n",
        "                elif isinstance(child, nn.Linear):\n",
        "                    output_dims.append(child.out_features)\n",
        "            recursive_extract_prunable_layers_info(child)\n",
        "\n",
        "    recursive_extract_prunable_layers_info(model)\n",
        "\n",
        "    # skip the ouput layer as its out dim should equal to class num and can not be pruned\n",
        "    del prunable_layers[-1]\n",
        "    del output_dims[-1]\n",
        "\n",
        "    prunable_layers = [item for idx, item in enumerate(prunable_layers) if idx not in skip_layer_index]\n",
        "    output_dims = [item for idx, item in enumerate(output_dims) if idx not in skip_layer_index]\n",
        "\n",
        "    total_output_dim = sum(output_dims)\n",
        "    filter_distribution = [dim / total_output_dim for dim in output_dims]\n",
        "\n",
        "    return torch.tensor(filter_distribution), total_output_dim, prunable_layers\n",
        "\n"
      ]
    },
    {
      "cell_type": "markdown",
      "source": [
        "کد مثال استفاده"
      ],
      "metadata": {
        "id": "BEK_HsS-hOTn"
      }
    },
    {
      "cell_type": "code",
      "source": [
        "import torch\n",
        "import torch.nn as nn\n",
        "from typing import List, Tuple\n",
        "\n",
        "# تعریف PRUNABLE_LAYERS و CONV_LAYERS\n",
        "PRUNABLE_LAYERS = (nn.Conv2d, nn.Linear)\n",
        "CONV_LAYERS = (nn.Conv2d,)\n",
        "\n",
        "# یک مدل ساده با لایه‌های مختلف\n",
        "class SimpleModel(nn.Module):\n",
        "    def __init__(self):\n",
        "        super(SimpleModel, self).__init__()\n",
        "        self.conv1 = nn.Conv2d(3, 16, kernel_size=3, stride=1, padding=1)  # 3 -> 16\n",
        "        self.conv2 = nn.Conv2d(16, 32, kernel_size=3, stride=1, padding=1)  # 16 -> 32\n",
        "        self.fc1 = nn.Linear(32 * 8 * 8, 128)  # Fully connected layer\n",
        "        self.fc2 = nn.Linear(128, 10)  # Output layer (10 classes)\n",
        "\n",
        "    def forward(self, x):\n",
        "        x = self.conv1(x)\n",
        "        x = torch.relu(x)\n",
        "        x = self.conv2(x)\n",
        "        x = torch.relu(x)\n",
        "        x = torch.flatten(x, start_dim=1)\n",
        "        x = self.fc1(x)\n",
        "        x = torch.relu(x)\n",
        "        x = self.fc2(x)\n",
        "        return x\n",
        "\n",
        "# مدل را تعریف کنید\n",
        "model = SimpleModel()\n",
        "\n",
        "# ایندکس لایه‌هایی که باید نادیده گرفته شوند (اینجا خالی است)\n",
        "skip_layer_index = []\n",
        "\n",
        "# فراخوانی تابع\n",
        "filter_distribution, total_output_dim, prunable_layers = extract_prunable_layers_info(model, skip_layer_index)\n",
        "\n",
        "# چاپ نتایج\n",
        "print(\"Filter Distribution:\", filter_distribution)\n",
        "print(\"Total Output Dimension:\", total_output_dim)\n",
        "print(\"Prunable Layers:\")\n",
        "for i, layer in enumerate(prunable_layers):\n",
        "    print(f\"  Layer {i+1}: {layer}\")"
      ],
      "metadata": {
        "id": "vT-Swn5phDAI"
      },
      "execution_count": null,
      "outputs": []
    }
  ]
}